{
 "cells": [
  {
   "cell_type": "markdown",
   "metadata": {},
   "source": [
    "## FormBlock"
   ]
  },
  {
   "cell_type": "code",
   "execution_count": 1,
   "metadata": {},
   "outputs": [],
   "source": [
    "from diracdec.backends.formprint import *"
   ]
  },
  {
   "cell_type": "code",
   "execution_count": 2,
   "metadata": {},
   "outputs": [],
   "source": [
    "a = \\\n",
    "'''a\n",
    "b + c + d'''"
   ]
  },
  {
   "cell_type": "code",
   "execution_count": 3,
   "metadata": {},
   "outputs": [],
   "source": [
    "a_ = BaseBlock(a)"
   ]
  },
  {
   "cell_type": "code",
   "execution_count": 4,
   "metadata": {},
   "outputs": [
    {
     "name": "stdout",
     "output_type": "stream",
     "text": [
      "┌─────────┐\n",
      "│a        │\n",
      "│b + c + d│\n",
      "└─────────┘\n"
     ]
    }
   ],
   "source": [
    "print(FrameBlock(a_))"
   ]
  },
  {
   "cell_type": "code",
   "execution_count": 5,
   "metadata": {},
   "outputs": [
    {
     "name": "stdout",
     "output_type": "stream",
     "text": [
      "          sss\n",
      "a            \n",
      "b + c + d    \n"
     ]
    }
   ],
   "source": [
    "b_ = BaseBlock('sss')\n",
    "print(IndexBlock(a_, UR_index=b_))"
   ]
  },
  {
   "cell_type": "code",
   "execution_count": 6,
   "metadata": {},
   "outputs": [
    {
     "name": "stdout",
     "output_type": "stream",
     "text": [
      "⎛┌─────────┐⎞\n",
      "⎜│a        │⎟\n",
      "⎜│b + c + d│⎟\n",
      "⎝└─────────┘⎠\n"
     ]
    }
   ],
   "source": [
    "print(ParenBlock(FrameBlock(a_)))"
   ]
  },
  {
   "cell_type": "code",
   "execution_count": 7,
   "metadata": {},
   "outputs": [
    {
     "name": "stdout",
     "output_type": "stream",
     "text": [
      "                                                              a                                    \n",
      "                                                              b + c + d                            \n",
      "⎛┌─────────┐⎞     ⎛┌─────────┐⎞              ⎛┌─────────┐⎞                                         \n",
      "⎜│a        │⎟  +  ⎜│a        │⎟              ⎜│a        │⎟                                         \n",
      "⎜│b + c + d│⎟     ⎜│b + c + d│⎟              ⎜│b + c + d│⎟                                         \n",
      "⎝└─────────┘⎠     ⎝└─────────┘⎠              ⎝└─────────┘⎠                                         \n",
      "                               ⎛a        ⎞ ssssssssssssssssss sssssssssssssssssssssssssssssssssssss\n",
      "                               ⎝b + c + d⎠                                                         \n"
     ]
    }
   ],
   "source": [
    "expr = HSeqBlock(ParenBlock(FrameBlock(a_)),\" \", \" + \",\" \", ParenBlock(FrameBlock(a_)), \n",
    "    IndexBlock(\n",
    "        ParenBlock(FrameBlock(a_)), DL_index=ParenBlock(a_), \n",
    "        DR_index=BaseBlock(\"sssssssssssssssssssssssssssssssssssss\"),\n",
    "        D_index=BaseBlock(\"ssssssssssssssssss\"),\n",
    "        UR_index=a_\n",
    "    ))\n",
    "print(expr)"
   ]
  }
 ],
 "metadata": {
  "kernelspec": {
   "display_name": "base",
   "language": "python",
   "name": "python3"
  },
  "language_info": {
   "codemirror_mode": {
    "name": "ipython",
    "version": 3
   },
   "file_extension": ".py",
   "mimetype": "text/x-python",
   "name": "python",
   "nbconvert_exporter": "python",
   "pygments_lexer": "ipython3",
   "version": "3.11.5"
  }
 },
 "nbformat": 4,
 "nbformat_minor": 2
}
