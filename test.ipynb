{
 "cells": [
  {
   "cell_type": "code",
   "execution_count": 1,
   "metadata": {},
   "outputs": [],
   "source": [
    "from wolframclient.evaluation import WolframLanguageSession\n",
    "from wolframclient.language import wl, wlexpr\n",
    "session = WolframLanguageSession()"
   ]
  },
  {
   "cell_type": "code",
   "execution_count": 2,
   "metadata": {},
   "outputs": [],
   "source": [
    "a = session.evaluate(wlexpr('FindInstance[0 == 0, {x, a}]'))"
   ]
  },
  {
   "cell_type": "code",
   "execution_count": 3,
   "metadata": {},
   "outputs": [
    {
     "data": {
      "text/plain": [
       "Global`x"
      ]
     },
     "execution_count": 3,
     "metadata": {},
     "output_type": "execute_result"
    }
   ],
   "source": [
    "vars = session.evaluate(wlexpr('{x, a}'))\n",
    "type(vars[0])\n",
    "vars[0]"
   ]
  },
  {
   "cell_type": "code",
   "execution_count": 4,
   "metadata": {},
   "outputs": [
    {
     "data": {
      "text/plain": [
       "(Rule[Global`a, 1], Rule[Global`b, 2])"
      ]
     },
     "execution_count": 4,
     "metadata": {},
     "output_type": "execute_result"
    }
   ],
   "source": [
    "session.evaluate(wlexpr('{a -> 1, b -> 2}'))"
   ]
  },
  {
   "cell_type": "code",
   "execution_count": 5,
   "metadata": {},
   "outputs": [
    {
     "data": {
      "text/plain": [
       "(Rule[Global`z, 1], Rule[Global`y, 2])"
      ]
     },
     "execution_count": 5,
     "metadata": {},
     "output_type": "execute_result"
    }
   ],
   "source": [
    "session.evaluate(\n",
    "    (wl.Rule(wl.Symbol('z'), 1), \n",
    "     wl.Rule(wl.Symbol('y'), 2)))"
   ]
  },
  {
   "cell_type": "code",
   "execution_count": 6,
   "metadata": {},
   "outputs": [],
   "source": [
    "b = session.evaluate(wlexpr('Times[-1, Power[E, Times[Complex[0, Rational[1, 2]], Plus[Times[2, Global`a], Times[-1, Global`beta], Global`delta]]], Sin[Times[Rational[1, 2], Global`gamma]]]'))"
   ]
  },
  {
   "cell_type": "code",
   "execution_count": 7,
   "metadata": {},
   "outputs": [
    {
     "name": "stdout",
     "output_type": "stream",
     "text": [
      "\\sin \\left(\\frac{\\gamma }{2}\\right) \\left(-e^{\\frac{1}{2} i (2 a-\\beta +\\delta )}\\right)\n"
     ]
    }
   ],
   "source": [
    "texcode = session.evaluate(wl.ToString(b, wl.TeXForm))\n",
    "print(texcode)"
   ]
  },
  {
   "cell_type": "code",
   "execution_count": 8,
   "metadata": {},
   "outputs": [],
   "source": [
    "import matplotlib.pyplot as plt\n",
    "\n",
    "def render_latex(formula, filename='latex_formula.png', dpi=300):\n",
    "    # Configure Matplotlib to use LaTeX for text rendering\n",
    "    plt.rcParams['text.usetex'] = True\n",
    "\n",
    "    # Create a figure with no frame\n",
    "    fig = plt.figure(figsize=(6, 1))\n",
    "    fig.text(0, 0, formula, fontsize=24)\n",
    "\n",
    "    # Save the figure as an image\n",
    "    fig.savefig(filename, dpi=dpi, bbox_inches='tight', pad_inches=0.1)\n",
    "    plt.close(fig)\n",
    "\n",
    "# Example LaTeX formula\n",
    "formula = rf'${texcode} \\mathop{{K0}} \\cdot \\langle 1 | 0 \\rangle$'\n",
    "\n",
    "# Render the formula into an image\n",
    "render_latex(formula)"
   ]
  },
  {
   "cell_type": "code",
   "execution_count": null,
   "metadata": {},
   "outputs": [],
   "source": []
  }
 ],
 "metadata": {
  "kernelspec": {
   "display_name": "base",
   "language": "python",
   "name": "python3"
  },
  "language_info": {
   "codemirror_mode": {
    "name": "ipython",
    "version": 3
   },
   "file_extension": ".py",
   "mimetype": "text/x-python",
   "name": "python",
   "nbconvert_exporter": "python",
   "pygments_lexer": "ipython3",
   "version": "3.11.5"
  }
 },
 "nbformat": 4,
 "nbformat_minor": 2
}
