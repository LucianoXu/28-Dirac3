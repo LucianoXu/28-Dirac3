{
 "cells": [
  {
   "cell_type": "markdown",
   "metadata": {},
   "source": [
    "# Dirac Notation Implementation - Test"
   ]
  },
  {
   "cell_type": "markdown",
   "metadata": {},
   "source": [
    "## Set up the environment"
   ]
  },
  {
   "cell_type": "code",
   "execution_count": 1,
   "metadata": {},
   "outputs": [],
   "source": [
    "from wolframclient.evaluation import WolframLanguageSession\n",
    "from wolframclient.language import wl, wlexpr\n",
    "session = WolframLanguageSession()"
   ]
  },
  {
   "cell_type": "code",
   "execution_count": 2,
   "metadata": {},
   "outputs": [],
   "source": [
    "from diracdec import *\n",
    "from diracdec import dirac_delta_parse as parse, dirac_delta_trs as trs"
   ]
  },
  {
   "cell_type": "code",
   "execution_count": 3,
   "metadata": {},
   "outputs": [],
   "source": [
    "sub = Subst({\n",
    "    \"ket0\" : parse('''KET('0')'''),\n",
    "    \"bra0\" : parse('''BRA('0')'''),\n",
    "    \"ket1\" : parse('''KET('1')'''),\n",
    "    \"bra1\" : parse('''BRA('1')'''),\n",
    "    \"ketP\" : parse(''' \"Sqrt[1/2]\" SCRK (ket0 ADDK ket1) '''),\n",
    "    \"braP\" : parse(''' \"Sqrt[1/2]\" SCRB (bra0 ADDB bra1) '''),\n",
    "    \"ketM\" : parse(''' \"Sqrt[1/2]\" SCRK (ket0 ADDK (\"-1\" MLTK ket1)) '''),\n",
    "    \"braM\" : parse(''' \"Sqrt[1/2]\" SCRB (bra0 ADDB (\"-1\" MLTB bra1)) '''),\n",
    "\n",
    "    \"beta00\" : parse(''' \"Sqrt[1/2]\" SCRK ((ket0 TSRK ket0) ADDK (ket1 TSRK ket1))'''),\n",
    "\n",
    "    \"I2\" : parse('''(ket0 OUTER bra0) ADDO (ket1 OUTER bra1)'''),\n",
    "\n",
    "    \"Z\" : parse('''(ket0 OUTER bra0) ADDO (\"-1\" SCRO (ket1 OUTER bra1))'''),\n",
    "\n",
    "    \"X\" : parse('''(ket0 OUTER bra1) ADDO (ket1 OUTER bra0)'''),\n",
    "\n",
    "    \"Y\" : parse('''(\"-I\" SCRO (ket0 OUTER bra1)) ADDO (\"I\" SCRO (ket1 OUTER bra0))'''),\n",
    "\n",
    "\n",
    "    \"H\" : parse(''' \"Sqrt[1/2]\" SCRO ((ket0 OUTER bra0) ADDO (ket0 OUTER bra1) ADDO (ket1 OUTER bra0) ADDO (\"-1\" SCRO (ket1 OUTER bra1)))'''),\n",
    "\n",
    "    \"CX\": parse(''' ((ket0 TSRK ket0) OUTER (bra0 TSRB bra0))\n",
    "                ADDO ((ket0 TSRK ket1) OUTER (bra0 TSRB bra1)) \n",
    "                ADDO ((ket1 TSRK ket1) OUTER (bra1 TSRB bra0))\n",
    "                ADDO ((ket1 TSRK ket0) OUTER (bra1 TSRB bra1))'''),\n",
    "\n",
    "    \"CZ\": parse(''' ((ket0 TSRK ket0) OUTER (bra0 TSRB bra0))\n",
    "                ADDO ((ket0 TSRK ket1) OUTER (bra0 TSRB bra1)) \n",
    "                ADDO ((ket1 TSRK ket0) OUTER (bra1 TSRB bra0))\n",
    "                ADDO (\"-1\" SCRO ((ket1 TSRK ket1) OUTER (bra1 TSRB bra1)))'''),\n",
    "\n",
    "}).get_idempotent()\n"
   ]
  },
  {
   "cell_type": "markdown",
   "metadata": {},
   "source": [
    "## Playground"
   ]
  },
  {
   "cell_type": "code",
   "execution_count": 13,
   "metadata": {},
   "outputs": [
    {
     "data": {
      "text/plain": [
       "'\\\\left (\\\\text{Hold}\\\\left[a \\\\left(\\\\sum _{i=1}^{\\\\infty } \\\\left(\\\\frac{1}{2}\\\\right)^i\\\\right)+a\\\\right]\\\\right )'"
      ]
     },
     "execution_count": 13,
     "metadata": {},
     "output_type": "execute_result"
    }
   ],
   "source": [
    "a = parse(''' \"Hold[Sum[(1/2)^i, {i,1,Infinity}] a + a] \" ''')\n",
    "\n",
    "a.tex()\n",
    "# trs.normalize(a).render_tex()\n"
   ]
  },
  {
   "cell_type": "code",
   "execution_count": 14,
   "metadata": {},
   "outputs": [],
   "source": [
    "b = session.evaluate(\" Hold[Sum[(1/2)^i, {i,1,Infinity}] a + a] \")"
   ]
  }
 ],
 "metadata": {
  "kernelspec": {
   "display_name": "base",
   "language": "python",
   "name": "python3"
  },
  "language_info": {
   "codemirror_mode": {
    "name": "ipython",
    "version": 3
   },
   "file_extension": ".py",
   "mimetype": "text/x-python",
   "name": "python",
   "nbconvert_exporter": "python",
   "pygments_lexer": "ipython3",
   "version": "3.11.5"
  }
 },
 "nbformat": 4,
 "nbformat_minor": 2
}
