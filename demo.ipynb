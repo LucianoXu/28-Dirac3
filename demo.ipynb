{
 "cells": [
  {
   "cell_type": "markdown",
   "metadata": {},
   "source": [
    "# Dirac Notation Implementation - DEMO"
   ]
  },
  {
   "cell_type": "markdown",
   "metadata": {},
   "source": [
    "2024-03-01"
   ]
  },
  {
   "cell_type": "markdown",
   "metadata": {},
   "source": [
    "## Set up the environment"
   ]
  },
  {
   "cell_type": "code",
   "execution_count": null,
   "metadata": {},
   "outputs": [],
   "source": [
    "from wolframclient.evaluation import WolframLanguageSession\n",
    "from wolframclient.language import wl, wlexpr\n",
    "session = WolframLanguageSession()"
   ]
  },
  {
   "cell_type": "code",
   "execution_count": null,
   "metadata": {},
   "outputs": [],
   "source": [
    "from qwhile import *\n",
    "from diracdec import dirac_bigop_delta_trs, label_trs, juxt\n",
    "trs = dirac_bigop_delta_trs + label_trs\n",
    "from qwhile import forward_trs\n",
    "trs = trs + forward_trs"
   ]
  },
  {
   "cell_type": "code",
   "execution_count": null,
   "metadata": {},
   "outputs": [],
   "source": [
    "sub = parse('''\n",
    "{\n",
    "        ket0 : KET('0');\n",
    "        bra0 : BRA('0');\n",
    "        ket1 : KET('1');\n",
    "        bra1 : BRA('1');\n",
    "        ketP :  \"Sqrt[1/2]\" SCR (ket0 ADD ket1) ;\n",
    "        braP :  \"Sqrt[1/2]\" SCR (bra0 ADD bra1) ;\n",
    "        ketM :  \"Sqrt[1/2]\" SCR (ket0 ADD (\"-1\" MLTK ket1)) ;\n",
    "        braM :  \"Sqrt[1/2]\" SCR (bra0 ADD (\"-1\" MLTB bra1)) ;\n",
    "\n",
    "        beta00 :  \"Sqrt[1/2]\" SCR ((ket0 TSRK ket0) ADD (ket1 TSRK ket1));\n",
    "\n",
    "        I2 : (ket0 OUTER bra0) ADD (ket1 OUTER bra1);\n",
    "\n",
    "        Z : (ket0 OUTER bra0) ADD (\"-1\" SCR (ket1 OUTER bra1));\n",
    "\n",
    "        X : (ket0 OUTER bra1) ADD (ket1 OUTER bra0);\n",
    "\n",
    "        Y : (\"-I\" SCR (ket0 OUTER bra1)) ADD (\"I\" SCR (ket1 OUTER bra0));\n",
    "\n",
    "\n",
    "        H :  \"Sqrt[1/2]\" SCR ((ket0 OUTER bra0) ADD (ket0 OUTER bra1) ADD (ket1 OUTER bra0) ADD (\"-1\" SCR (ket1 OUTER bra1)));\n",
    "\n",
    "        CX :  ((ket0 TSRK ket0) OUTER (bra0 TSRB bra0))\n",
    "                    ADD ((ket0 TSRK ket1) OUTER (bra0 TSRB bra1)) \n",
    "                    ADD ((ket1 TSRK ket1) OUTER (bra1 TSRB bra0))\n",
    "                    ADD ((ket1 TSRK ket0) OUTER (bra1 TSRB bra1));\n",
    "\n",
    "        CZ :  ((ket0 TSRK ket0) OUTER (bra0 TSRB bra0))\n",
    "                    ADD ((ket0 TSRK ket1) OUTER (bra0 TSRB bra1)) \n",
    "                    ADD ((ket1 TSRK ket0) OUTER (bra1 TSRB bra0))\n",
    "                    ADD (\"-1\" SCR ((ket1 TSRK ket1) OUTER (bra1 TSRB bra1)));\n",
    "        }\n",
    "          ''').get_idempotent()\n"
   ]
  },
  {
   "cell_type": "markdown",
   "metadata": {},
   "source": [
    "## Example with Label"
   ]
  },
  {
   "cell_type": "code",
   "execution_count": null,
   "metadata": {},
   "outputs": [],
   "source": [
    "a = parse(''' A[q] MLTOL B[PAIRR(PAIRR(p, q), r)]''')\n",
    "a.render_tex()"
   ]
  },
  {
   "cell_type": "code",
   "execution_count": null,
   "metadata": {},
   "outputs": [],
   "source": [
    "trs.normalize(a).render_tex()"
   ]
  },
  {
   "cell_type": "markdown",
   "metadata": {},
   "source": [
    "## Examples"
   ]
  },
  {
   "cell_type": "markdown",
   "metadata": {},
   "source": [
    "### Operation on Maximally Entangled State"
   ]
  },
  {
   "cell_type": "markdown",
   "metadata": {},
   "source": [
    "For all $A$,\n",
    "$$\n",
    "A_{S} \\ket{\\Phi}_{S, T} = A^\\top_{T} \\ket{\\Phi}_{S, T}\n",
    "$$\n",
    "where\n",
    "$$\n",
    "\\ket{\\Phi} = \\sum_{i}\\ket{i}\\ket{i}\n",
    "$$"
   ]
  },
  {
   "cell_type": "code",
   "execution_count": null,
   "metadata": {},
   "outputs": [],
   "source": [
    "a = parse(''' \n",
    "                (\n",
    "                    \n",
    "                   (SUM(i, KET(i) OUTER BRA(i))[S]) MLTOL (A[S])\n",
    "                ) \n",
    "                MLTKL \n",
    "                (\n",
    "                    SUM(i, KET(PAIR(i, i))[PAIRR(S, T)])\n",
    "                ) \n",
    "            ''')\n",
    "\n",
    "b = parse(''' \n",
    "                (\n",
    "                    (SUM(i, KET(i) OUTER BRA(i))[T]) MLTOL (TP(A)[T])\n",
    "                ) \n",
    "                MLTKL \n",
    "                (\n",
    "                    SUM(i, KET(PAIR(i, i))[PAIRR(S, T)])\n",
    "                ) \n",
    "            ''')"
   ]
  },
  {
   "cell_type": "code",
   "execution_count": null,
   "metadata": {},
   "outputs": [],
   "source": [
    "a.render_tex()"
   ]
  },
  {
   "cell_type": "code",
   "execution_count": null,
   "metadata": {},
   "outputs": [],
   "source": [
    "print(repr(a))"
   ]
  },
  {
   "cell_type": "code",
   "execution_count": null,
   "metadata": {},
   "outputs": [],
   "source": [
    "b.render_tex()"
   ]
  },
  {
   "cell_type": "code",
   "execution_count": null,
   "metadata": {},
   "outputs": [],
   "source": [
    "norm_a = trs.normalize(a)\n",
    "norm_b = trs.normalize(b)\n",
    "\n",
    "assert trs.normalize(juxt(norm_a)) == trs.normalize(juxt(norm_b))"
   ]
  },
  {
   "cell_type": "code",
   "execution_count": null,
   "metadata": {},
   "outputs": [],
   "source": [
    "trs.normalize(a).render_tex()"
   ]
  },
  {
   "cell_type": "code",
   "execution_count": null,
   "metadata": {},
   "outputs": [],
   "source": [
    "print(repr(trs.normalize(a)))"
   ]
  },
  {
   "cell_type": "code",
   "execution_count": null,
   "metadata": {},
   "outputs": [],
   "source": [
    "trs.normalize(b).render_tex()"
   ]
  },
  {
   "cell_type": "code",
   "execution_count": null,
   "metadata": {},
   "outputs": [],
   "source": [
    "trs.normalize(a, verbose=True)"
   ]
  },
  {
   "cell_type": "markdown",
   "metadata": {},
   "source": [
    "## QWhile Forward"
   ]
  },
  {
   "cell_type": "markdown",
   "metadata": {},
   "source": [
    "### easy example"
   ]
  },
  {
   "cell_type": "code",
   "execution_count": null,
   "metadata": {},
   "outputs": [],
   "source": [
    "cfg = parse('''\n",
    "    <\n",
    "    while [2] (KET('0') OUTER BRA('0'))[q] do\n",
    "             X[q];\n",
    "    end; , (ket0 OUTER bra0)[q] >\n",
    "             ''')"
   ]
  },
  {
   "cell_type": "code",
   "execution_count": null,
   "metadata": {},
   "outputs": [],
   "source": [
    "cfg_sub = sub(cfg)\n",
    "print(cfg_sub)"
   ]
  },
  {
   "cell_type": "code",
   "execution_count": null,
   "metadata": {},
   "outputs": [],
   "source": [
    "trs.normalize(cfg_sub, verbose=True)"
   ]
  },
  {
   "cell_type": "markdown",
   "metadata": {},
   "source": [
    "### 2"
   ]
  },
  {
   "cell_type": "code",
   "execution_count": null,
   "metadata": {},
   "outputs": [],
   "source": [
    "cfg = parse('''\n",
    "    <\n",
    "    while [1] (KET('0') OUTER BRA('0'))[q] do\n",
    "             H[q];\n",
    "    end; , (ketP OUTER braP)[q] >\n",
    "             ''')"
   ]
  },
  {
   "cell_type": "code",
   "execution_count": null,
   "metadata": {},
   "outputs": [],
   "source": [
    "print(cfg)"
   ]
  },
  {
   "cell_type": "code",
   "execution_count": null,
   "metadata": {},
   "outputs": [],
   "source": [
    "cfg_sub = sub(cfg)"
   ]
  },
  {
   "cell_type": "code",
   "execution_count": null,
   "metadata": {},
   "outputs": [],
   "source": [
    "print(cfg_sub)"
   ]
  },
  {
   "cell_type": "code",
   "execution_count": null,
   "metadata": {},
   "outputs": [],
   "source": [
    "trs.normalize(cfg_sub, verbose=True)"
   ]
  },
  {
   "cell_type": "code",
   "execution_count": null,
   "metadata": {},
   "outputs": [],
   "source": []
  }
 ],
 "metadata": {
  "kernelspec": {
   "display_name": "base",
   "language": "python",
   "name": "python3"
  },
  "language_info": {
   "codemirror_mode": {
    "name": "ipython",
    "version": 3
   },
   "file_extension": ".py",
   "mimetype": "text/x-python",
   "name": "python",
   "nbconvert_exporter": "python",
   "pygments_lexer": "ipython3",
   "version": "3.11.5"
  }
 },
 "nbformat": 4,
 "nbformat_minor": 2
}
